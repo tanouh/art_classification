{
 "cells": [
  {
   "cell_type": "code",
   "execution_count": null,
   "id": "80264a77",
   "metadata": {},
   "outputs": [
    {
     "name": "stderr",
     "output_type": "stream",
     "text": [
      "Error: no \"view\" rule for type \"image/png\" passed its test case\n",
      "       (for more information, add \"--debug=1\" on the command line)\n"
     ]
    }
   ],
   "source": [
    "from PIL import Image\n",
    "from functions import LetterboxPad\n",
    "\n",
    "# Load image\n",
    "img = Image.open(\"../../data/art/train/abstrait/keseru_1.jpg\").convert(\"RGB\")\n",
    "\n",
    "# Apply letterbox padding\n",
    "padder = LetterboxPad(size=(224, 224), fill_mode='reflect')  # or 'reflect'\n",
    "padded_img = padder(img)\n",
    "\n",
    "# Optional: save or visualize\n",
    "padded_img.save(\"letterboxed_image.jpg\")\n",
    "padded_img.show()\n"
   ]
  },
  {
   "cell_type": "code",
   "execution_count": null,
   "id": "4fd5f3bc",
   "metadata": {},
   "outputs": [],
   "source": []
  }
 ],
 "metadata": {
  "kernelspec": {
   "display_name": "projenv",
   "language": "python",
   "name": "python3"
  },
  "language_info": {
   "codemirror_mode": {
    "name": "ipython",
    "version": 3
   },
   "file_extension": ".py",
   "mimetype": "text/x-python",
   "name": "python",
   "nbconvert_exporter": "python",
   "pygments_lexer": "ipython3",
   "version": "3.10.16"
  }
 },
 "nbformat": 4,
 "nbformat_minor": 5
}
